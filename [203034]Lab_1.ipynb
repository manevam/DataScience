{
  "nbformat": 4,
  "nbformat_minor": 0,
  "metadata": {
    "colab": {
      "provenance": []
    },
    "kernelspec": {
      "name": "python3",
      "display_name": "Python 3"
    },
    "language_info": {
      "name": "python"
    }
  },
  "cells": [
    {
      "cell_type": "markdown",
      "source": [
        "#<font color='orange'>Симнете го податочното множество</font>"
      ],
      "metadata": {
        "id": "H9NRp179xgn6"
      }
    },
    {
      "cell_type": "code",
      "execution_count": null,
      "metadata": {
        "colab": {
          "base_uri": "https://localhost:8080/"
        },
        "id": "xXUclAyqxe6R",
        "outputId": "0bd413b9-6ce6-4c7d-cde0-2631cdd72053"
      },
      "outputs": [
        {
          "output_type": "stream",
          "name": "stdout",
          "text": [
            "Downloading...\n",
            "From: https://drive.google.com/uc?id=14YlgjT_M8kDrvDKEv864fs7ZyI1lMErO\n",
            "To: /content/crypto_data.csv\n",
            "\r  0% 0.00/90.0k [00:00<?, ?B/s]\r100% 90.0k/90.0k [00:00<00:00, 60.8MB/s]\n"
          ]
        }
      ],
      "source": [
        "!gdown 14YlgjT_M8kDrvDKEv864fs7ZyI1lMErO"
      ]
    },
    {
      "cell_type": "markdown",
      "source": [
        "#<font color='orange'>Направете претпроцесирање на податоците</font>"
      ],
      "metadata": {
        "id": "kBHRifjrxqyD"
      }
    },
    {
      "cell_type": "code",
      "source": [
        "import pandas as pd\n",
        "data = pd.read_csv('crypto_data.csv')\n",
        "data\n"
      ],
      "metadata": {
        "id": "jM-qEt88xvta",
        "colab": {
          "base_uri": "https://localhost:8080/",
          "height": 424
        },
        "outputId": "7c653bbd-f837-475b-b528-d6957e268bf5"
      },
      "execution_count": null,
      "outputs": [
        {
          "output_type": "execute_result",
          "data": {
            "text/plain": [
              "          Date  Close (BNB)   Close (BTC)  Close (USDT)  Close (ETH)\n",
              "0     09-11-17      1.99077   7143.580078       1.00818   320.884003\n",
              "1     10-11-17      1.79684   6618.140137       1.00601   299.252991\n",
              "2     11-11-17      1.67047   6357.600098       1.00899   314.681000\n",
              "3     12-11-17      1.51969   5950.069824       1.01247   307.907990\n",
              "4     13-11-17      1.68662   6559.490234       1.00935   316.716003\n",
              "...        ...          ...           ...           ...          ...\n",
              "1748  23-08-22    299.03000  21528.090000       1.00000  1662.770000\n",
              "1749  24-08-22    296.45000  21395.020000       1.00000  1657.060000\n",
              "1750  25-08-22    301.58000  21600.900000       1.00010  1696.460000\n",
              "1751  26-08-22    279.60000  20260.020000       1.00000  1507.780000\n",
              "1752  27-08-22    277.30000  20029.790000       1.00000  1470.760000\n",
              "\n",
              "[1753 rows x 5 columns]"
            ],
            "text/html": [
              "\n",
              "  <div id=\"df-b32f15ae-8d70-4d0e-9fcb-e74499a63ae9\">\n",
              "    <div class=\"colab-df-container\">\n",
              "      <div>\n",
              "<style scoped>\n",
              "    .dataframe tbody tr th:only-of-type {\n",
              "        vertical-align: middle;\n",
              "    }\n",
              "\n",
              "    .dataframe tbody tr th {\n",
              "        vertical-align: top;\n",
              "    }\n",
              "\n",
              "    .dataframe thead th {\n",
              "        text-align: right;\n",
              "    }\n",
              "</style>\n",
              "<table border=\"1\" class=\"dataframe\">\n",
              "  <thead>\n",
              "    <tr style=\"text-align: right;\">\n",
              "      <th></th>\n",
              "      <th>Date</th>\n",
              "      <th>Close (BNB)</th>\n",
              "      <th>Close (BTC)</th>\n",
              "      <th>Close (USDT)</th>\n",
              "      <th>Close (ETH)</th>\n",
              "    </tr>\n",
              "  </thead>\n",
              "  <tbody>\n",
              "    <tr>\n",
              "      <th>0</th>\n",
              "      <td>09-11-17</td>\n",
              "      <td>1.99077</td>\n",
              "      <td>7143.580078</td>\n",
              "      <td>1.00818</td>\n",
              "      <td>320.884003</td>\n",
              "    </tr>\n",
              "    <tr>\n",
              "      <th>1</th>\n",
              "      <td>10-11-17</td>\n",
              "      <td>1.79684</td>\n",
              "      <td>6618.140137</td>\n",
              "      <td>1.00601</td>\n",
              "      <td>299.252991</td>\n",
              "    </tr>\n",
              "    <tr>\n",
              "      <th>2</th>\n",
              "      <td>11-11-17</td>\n",
              "      <td>1.67047</td>\n",
              "      <td>6357.600098</td>\n",
              "      <td>1.00899</td>\n",
              "      <td>314.681000</td>\n",
              "    </tr>\n",
              "    <tr>\n",
              "      <th>3</th>\n",
              "      <td>12-11-17</td>\n",
              "      <td>1.51969</td>\n",
              "      <td>5950.069824</td>\n",
              "      <td>1.01247</td>\n",
              "      <td>307.907990</td>\n",
              "    </tr>\n",
              "    <tr>\n",
              "      <th>4</th>\n",
              "      <td>13-11-17</td>\n",
              "      <td>1.68662</td>\n",
              "      <td>6559.490234</td>\n",
              "      <td>1.00935</td>\n",
              "      <td>316.716003</td>\n",
              "    </tr>\n",
              "    <tr>\n",
              "      <th>...</th>\n",
              "      <td>...</td>\n",
              "      <td>...</td>\n",
              "      <td>...</td>\n",
              "      <td>...</td>\n",
              "      <td>...</td>\n",
              "    </tr>\n",
              "    <tr>\n",
              "      <th>1748</th>\n",
              "      <td>23-08-22</td>\n",
              "      <td>299.03000</td>\n",
              "      <td>21528.090000</td>\n",
              "      <td>1.00000</td>\n",
              "      <td>1662.770000</td>\n",
              "    </tr>\n",
              "    <tr>\n",
              "      <th>1749</th>\n",
              "      <td>24-08-22</td>\n",
              "      <td>296.45000</td>\n",
              "      <td>21395.020000</td>\n",
              "      <td>1.00000</td>\n",
              "      <td>1657.060000</td>\n",
              "    </tr>\n",
              "    <tr>\n",
              "      <th>1750</th>\n",
              "      <td>25-08-22</td>\n",
              "      <td>301.58000</td>\n",
              "      <td>21600.900000</td>\n",
              "      <td>1.00010</td>\n",
              "      <td>1696.460000</td>\n",
              "    </tr>\n",
              "    <tr>\n",
              "      <th>1751</th>\n",
              "      <td>26-08-22</td>\n",
              "      <td>279.60000</td>\n",
              "      <td>20260.020000</td>\n",
              "      <td>1.00000</td>\n",
              "      <td>1507.780000</td>\n",
              "    </tr>\n",
              "    <tr>\n",
              "      <th>1752</th>\n",
              "      <td>27-08-22</td>\n",
              "      <td>277.30000</td>\n",
              "      <td>20029.790000</td>\n",
              "      <td>1.00000</td>\n",
              "      <td>1470.760000</td>\n",
              "    </tr>\n",
              "  </tbody>\n",
              "</table>\n",
              "<p>1753 rows × 5 columns</p>\n",
              "</div>\n",
              "      <button class=\"colab-df-convert\" onclick=\"convertToInteractive('df-b32f15ae-8d70-4d0e-9fcb-e74499a63ae9')\"\n",
              "              title=\"Convert this dataframe to an interactive table.\"\n",
              "              style=\"display:none;\">\n",
              "        \n",
              "  <svg xmlns=\"http://www.w3.org/2000/svg\" height=\"24px\"viewBox=\"0 0 24 24\"\n",
              "       width=\"24px\">\n",
              "    <path d=\"M0 0h24v24H0V0z\" fill=\"none\"/>\n",
              "    <path d=\"M18.56 5.44l.94 2.06.94-2.06 2.06-.94-2.06-.94-.94-2.06-.94 2.06-2.06.94zm-11 1L8.5 8.5l.94-2.06 2.06-.94-2.06-.94L8.5 2.5l-.94 2.06-2.06.94zm10 10l.94 2.06.94-2.06 2.06-.94-2.06-.94-.94-2.06-.94 2.06-2.06.94z\"/><path d=\"M17.41 7.96l-1.37-1.37c-.4-.4-.92-.59-1.43-.59-.52 0-1.04.2-1.43.59L10.3 9.45l-7.72 7.72c-.78.78-.78 2.05 0 2.83L4 21.41c.39.39.9.59 1.41.59.51 0 1.02-.2 1.41-.59l7.78-7.78 2.81-2.81c.8-.78.8-2.07 0-2.86zM5.41 20L4 18.59l7.72-7.72 1.47 1.35L5.41 20z\"/>\n",
              "  </svg>\n",
              "      </button>\n",
              "      \n",
              "  <style>\n",
              "    .colab-df-container {\n",
              "      display:flex;\n",
              "      flex-wrap:wrap;\n",
              "      gap: 12px;\n",
              "    }\n",
              "\n",
              "    .colab-df-convert {\n",
              "      background-color: #E8F0FE;\n",
              "      border: none;\n",
              "      border-radius: 50%;\n",
              "      cursor: pointer;\n",
              "      display: none;\n",
              "      fill: #1967D2;\n",
              "      height: 32px;\n",
              "      padding: 0 0 0 0;\n",
              "      width: 32px;\n",
              "    }\n",
              "\n",
              "    .colab-df-convert:hover {\n",
              "      background-color: #E2EBFA;\n",
              "      box-shadow: 0px 1px 2px rgba(60, 64, 67, 0.3), 0px 1px 3px 1px rgba(60, 64, 67, 0.15);\n",
              "      fill: #174EA6;\n",
              "    }\n",
              "\n",
              "    [theme=dark] .colab-df-convert {\n",
              "      background-color: #3B4455;\n",
              "      fill: #D2E3FC;\n",
              "    }\n",
              "\n",
              "    [theme=dark] .colab-df-convert:hover {\n",
              "      background-color: #434B5C;\n",
              "      box-shadow: 0px 1px 3px 1px rgba(0, 0, 0, 0.15);\n",
              "      filter: drop-shadow(0px 1px 2px rgba(0, 0, 0, 0.3));\n",
              "      fill: #FFFFFF;\n",
              "    }\n",
              "  </style>\n",
              "\n",
              "      <script>\n",
              "        const buttonEl =\n",
              "          document.querySelector('#df-b32f15ae-8d70-4d0e-9fcb-e74499a63ae9 button.colab-df-convert');\n",
              "        buttonEl.style.display =\n",
              "          google.colab.kernel.accessAllowed ? 'block' : 'none';\n",
              "\n",
              "        async function convertToInteractive(key) {\n",
              "          const element = document.querySelector('#df-b32f15ae-8d70-4d0e-9fcb-e74499a63ae9');\n",
              "          const dataTable =\n",
              "            await google.colab.kernel.invokeFunction('convertToInteractive',\n",
              "                                                     [key], {});\n",
              "          if (!dataTable) return;\n",
              "\n",
              "          const docLinkHtml = 'Like what you see? Visit the ' +\n",
              "            '<a target=\"_blank\" href=https://colab.research.google.com/notebooks/data_table.ipynb>data table notebook</a>'\n",
              "            + ' to learn more about interactive tables.';\n",
              "          element.innerHTML = '';\n",
              "          dataTable['output_type'] = 'display_data';\n",
              "          await google.colab.output.renderOutput(dataTable, element);\n",
              "          const docLink = document.createElement('div');\n",
              "          docLink.innerHTML = docLinkHtml;\n",
              "          element.appendChild(docLink);\n",
              "        }\n",
              "      </script>\n",
              "    </div>\n",
              "  </div>\n",
              "  "
            ]
          },
          "metadata": {},
          "execution_count": 22
        }
      ]
    },
    {
      "cell_type": "code",
      "source": [
        "from dataclasses import dataclass\n",
        "data.dropna(axis=0, subset=['Close (ETH)'], inplace=True)\n",
        "y = data.drop(['Date'], axis=1).drop(['Close (BNB)'], axis=1).drop(['Close (BTC)'], axis=1).drop(['Close (USDT)'], axis=1)\n",
        "X = data.drop(['Close (ETH)'], axis=1).select_dtypes(exclude=['object'])\n",
        "X"
      ],
      "metadata": {
        "colab": {
          "base_uri": "https://localhost:8080/",
          "height": 424
        },
        "id": "ehe3pGqpu6i5",
        "outputId": "0eb79bd1-9254-48fe-de37-9a657b335fbf"
      },
      "execution_count": null,
      "outputs": [
        {
          "output_type": "execute_result",
          "data": {
            "text/plain": [
              "      Close (BNB)   Close (BTC)  Close (USDT)\n",
              "0         1.99077   7143.580078       1.00818\n",
              "1         1.79684   6618.140137       1.00601\n",
              "2         1.67047   6357.600098       1.00899\n",
              "3         1.51969   5950.069824       1.01247\n",
              "4         1.68662   6559.490234       1.00935\n",
              "...           ...           ...           ...\n",
              "1748    299.03000  21528.090000       1.00000\n",
              "1749    296.45000  21395.020000       1.00000\n",
              "1750    301.58000  21600.900000       1.00010\n",
              "1751    279.60000  20260.020000       1.00000\n",
              "1752    277.30000  20029.790000       1.00000\n",
              "\n",
              "[1753 rows x 3 columns]"
            ],
            "text/html": [
              "\n",
              "  <div id=\"df-023f93bc-1cb5-48bb-aa10-7b6fa7d8c109\">\n",
              "    <div class=\"colab-df-container\">\n",
              "      <div>\n",
              "<style scoped>\n",
              "    .dataframe tbody tr th:only-of-type {\n",
              "        vertical-align: middle;\n",
              "    }\n",
              "\n",
              "    .dataframe tbody tr th {\n",
              "        vertical-align: top;\n",
              "    }\n",
              "\n",
              "    .dataframe thead th {\n",
              "        text-align: right;\n",
              "    }\n",
              "</style>\n",
              "<table border=\"1\" class=\"dataframe\">\n",
              "  <thead>\n",
              "    <tr style=\"text-align: right;\">\n",
              "      <th></th>\n",
              "      <th>Close (BNB)</th>\n",
              "      <th>Close (BTC)</th>\n",
              "      <th>Close (USDT)</th>\n",
              "    </tr>\n",
              "  </thead>\n",
              "  <tbody>\n",
              "    <tr>\n",
              "      <th>0</th>\n",
              "      <td>1.99077</td>\n",
              "      <td>7143.580078</td>\n",
              "      <td>1.00818</td>\n",
              "    </tr>\n",
              "    <tr>\n",
              "      <th>1</th>\n",
              "      <td>1.79684</td>\n",
              "      <td>6618.140137</td>\n",
              "      <td>1.00601</td>\n",
              "    </tr>\n",
              "    <tr>\n",
              "      <th>2</th>\n",
              "      <td>1.67047</td>\n",
              "      <td>6357.600098</td>\n",
              "      <td>1.00899</td>\n",
              "    </tr>\n",
              "    <tr>\n",
              "      <th>3</th>\n",
              "      <td>1.51969</td>\n",
              "      <td>5950.069824</td>\n",
              "      <td>1.01247</td>\n",
              "    </tr>\n",
              "    <tr>\n",
              "      <th>4</th>\n",
              "      <td>1.68662</td>\n",
              "      <td>6559.490234</td>\n",
              "      <td>1.00935</td>\n",
              "    </tr>\n",
              "    <tr>\n",
              "      <th>...</th>\n",
              "      <td>...</td>\n",
              "      <td>...</td>\n",
              "      <td>...</td>\n",
              "    </tr>\n",
              "    <tr>\n",
              "      <th>1748</th>\n",
              "      <td>299.03000</td>\n",
              "      <td>21528.090000</td>\n",
              "      <td>1.00000</td>\n",
              "    </tr>\n",
              "    <tr>\n",
              "      <th>1749</th>\n",
              "      <td>296.45000</td>\n",
              "      <td>21395.020000</td>\n",
              "      <td>1.00000</td>\n",
              "    </tr>\n",
              "    <tr>\n",
              "      <th>1750</th>\n",
              "      <td>301.58000</td>\n",
              "      <td>21600.900000</td>\n",
              "      <td>1.00010</td>\n",
              "    </tr>\n",
              "    <tr>\n",
              "      <th>1751</th>\n",
              "      <td>279.60000</td>\n",
              "      <td>20260.020000</td>\n",
              "      <td>1.00000</td>\n",
              "    </tr>\n",
              "    <tr>\n",
              "      <th>1752</th>\n",
              "      <td>277.30000</td>\n",
              "      <td>20029.790000</td>\n",
              "      <td>1.00000</td>\n",
              "    </tr>\n",
              "  </tbody>\n",
              "</table>\n",
              "<p>1753 rows × 3 columns</p>\n",
              "</div>\n",
              "      <button class=\"colab-df-convert\" onclick=\"convertToInteractive('df-023f93bc-1cb5-48bb-aa10-7b6fa7d8c109')\"\n",
              "              title=\"Convert this dataframe to an interactive table.\"\n",
              "              style=\"display:none;\">\n",
              "        \n",
              "  <svg xmlns=\"http://www.w3.org/2000/svg\" height=\"24px\"viewBox=\"0 0 24 24\"\n",
              "       width=\"24px\">\n",
              "    <path d=\"M0 0h24v24H0V0z\" fill=\"none\"/>\n",
              "    <path d=\"M18.56 5.44l.94 2.06.94-2.06 2.06-.94-2.06-.94-.94-2.06-.94 2.06-2.06.94zm-11 1L8.5 8.5l.94-2.06 2.06-.94-2.06-.94L8.5 2.5l-.94 2.06-2.06.94zm10 10l.94 2.06.94-2.06 2.06-.94-2.06-.94-.94-2.06-.94 2.06-2.06.94z\"/><path d=\"M17.41 7.96l-1.37-1.37c-.4-.4-.92-.59-1.43-.59-.52 0-1.04.2-1.43.59L10.3 9.45l-7.72 7.72c-.78.78-.78 2.05 0 2.83L4 21.41c.39.39.9.59 1.41.59.51 0 1.02-.2 1.41-.59l7.78-7.78 2.81-2.81c.8-.78.8-2.07 0-2.86zM5.41 20L4 18.59l7.72-7.72 1.47 1.35L5.41 20z\"/>\n",
              "  </svg>\n",
              "      </button>\n",
              "      \n",
              "  <style>\n",
              "    .colab-df-container {\n",
              "      display:flex;\n",
              "      flex-wrap:wrap;\n",
              "      gap: 12px;\n",
              "    }\n",
              "\n",
              "    .colab-df-convert {\n",
              "      background-color: #E8F0FE;\n",
              "      border: none;\n",
              "      border-radius: 50%;\n",
              "      cursor: pointer;\n",
              "      display: none;\n",
              "      fill: #1967D2;\n",
              "      height: 32px;\n",
              "      padding: 0 0 0 0;\n",
              "      width: 32px;\n",
              "    }\n",
              "\n",
              "    .colab-df-convert:hover {\n",
              "      background-color: #E2EBFA;\n",
              "      box-shadow: 0px 1px 2px rgba(60, 64, 67, 0.3), 0px 1px 3px 1px rgba(60, 64, 67, 0.15);\n",
              "      fill: #174EA6;\n",
              "    }\n",
              "\n",
              "    [theme=dark] .colab-df-convert {\n",
              "      background-color: #3B4455;\n",
              "      fill: #D2E3FC;\n",
              "    }\n",
              "\n",
              "    [theme=dark] .colab-df-convert:hover {\n",
              "      background-color: #434B5C;\n",
              "      box-shadow: 0px 1px 3px 1px rgba(0, 0, 0, 0.15);\n",
              "      filter: drop-shadow(0px 1px 2px rgba(0, 0, 0, 0.3));\n",
              "      fill: #FFFFFF;\n",
              "    }\n",
              "  </style>\n",
              "\n",
              "      <script>\n",
              "        const buttonEl =\n",
              "          document.querySelector('#df-023f93bc-1cb5-48bb-aa10-7b6fa7d8c109 button.colab-df-convert');\n",
              "        buttonEl.style.display =\n",
              "          google.colab.kernel.accessAllowed ? 'block' : 'none';\n",
              "\n",
              "        async function convertToInteractive(key) {\n",
              "          const element = document.querySelector('#df-023f93bc-1cb5-48bb-aa10-7b6fa7d8c109');\n",
              "          const dataTable =\n",
              "            await google.colab.kernel.invokeFunction('convertToInteractive',\n",
              "                                                     [key], {});\n",
              "          if (!dataTable) return;\n",
              "\n",
              "          const docLinkHtml = 'Like what you see? Visit the ' +\n",
              "            '<a target=\"_blank\" href=https://colab.research.google.com/notebooks/data_table.ipynb>data table notebook</a>'\n",
              "            + ' to learn more about interactive tables.';\n",
              "          element.innerHTML = '';\n",
              "          dataTable['output_type'] = 'display_data';\n",
              "          await google.colab.output.renderOutput(dataTable, element);\n",
              "          const docLink = document.createElement('div');\n",
              "          docLink.innerHTML = docLinkHtml;\n",
              "          element.appendChild(docLink);\n",
              "        }\n",
              "      </script>\n",
              "    </div>\n",
              "  </div>\n",
              "  "
            ]
          },
          "metadata": {},
          "execution_count": 21
        }
      ]
    },
    {
      "cell_type": "markdown",
      "source": [
        "#<font color='orange'>Поделето го на тренирачко и тестирачко множество во сооднос 80:20</font>"
      ],
      "metadata": {
        "id": "LSSXfjmRxwIq"
      }
    },
    {
      "cell_type": "code",
      "source": [
        "from sklearn.model_selection import train_test_split\n",
        "\n",
        "X_train, X_test, Y_train, Y_test = train_X, test_X, train_y, test_y = train_test_split(X, y, test_size=0.2)"
      ],
      "metadata": {
        "id": "zxvjUDgIxxs2"
      },
      "execution_count": null,
      "outputs": []
    },
    {
      "cell_type": "markdown",
      "source": [
        "#<font color='orange'>Искористете соодветен Boosting модел за проблемот</font>"
      ],
      "metadata": {
        "id": "54mRD94dxy8h"
      }
    },
    {
      "cell_type": "code",
      "source": [
        "from xgboost import XGBRegressor\n",
        "\n",
        "model = XGBRegressor(objective ='reg:linear',colsample_bytree=0.3,learning_rate=0.1,max_depth=15,alpha=2,n_estimators=10)\n",
        "model.fit(X_train, Y_train)\n",
        "\n",
        "y_pred = model.predict(X_test)"
      ],
      "metadata": {
        "id": "Ng-1H9Jcx3gY",
        "colab": {
          "base_uri": "https://localhost:8080/"
        },
        "outputId": "e774840c-9e6a-43e6-b99c-ddb3383d9875"
      },
      "execution_count": null,
      "outputs": [
        {
          "output_type": "stream",
          "name": "stdout",
          "text": [
            "[18:12:06] WARNING: /workspace/src/objective/regression_obj.cu:152: reg:linear is now deprecated in favor of reg:squarederror.\n"
          ]
        }
      ]
    },
    {
      "cell_type": "markdown",
      "source": [
        "#<font color='orange'>Тестирајте го моделот на тестирачкото множество со метриките за евалуација на дадениот проблем</font>"
      ],
      "metadata": {
        "id": "p94YL8VEx42L"
      }
    },
    {
      "cell_type": "code",
      "source": [
        "from sklearn.metrics import mean_squared_error, mean_absolute_error\n",
        "import numpy as np\n",
        "\n",
        "print(\"Mean Absolute Error : \" + str(mean_absolute_error(y_pred, Y_test)))\n",
        "print(\"Mean Squared Error : \" + str(mean_squared_error(y_pred, Y_test)))\n",
        "print(\"Root Mean Squared Error : \" + str(np.sqrt(mean_squared_error(y_pred, Y_test))))"
      ],
      "metadata": {
        "id": "uq3ZRnNbx65T",
        "colab": {
          "base_uri": "https://localhost:8080/"
        },
        "outputId": "c9b1cbde-0130-4c13-ef77-2c2d64b3b1e9"
      },
      "execution_count": null,
      "outputs": [
        {
          "output_type": "stream",
          "name": "stdout",
          "text": [
            "Mean Absolute Error : 459.16665445599\n",
            "Mean Squared Error : 505692.9383006994\n",
            "Root Mean Squared Error : 711.1209027308222\n"
          ]
        }
      ]
    }
  ]
}
