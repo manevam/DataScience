{
  "nbformat": 4,
  "nbformat_minor": 0,
  "metadata": {
    "colab": {
      "provenance": []
    },
    "kernelspec": {
      "name": "python3",
      "display_name": "Python 3"
    },
    "language_info": {
      "name": "python"
    }
  },
  "cells": [
    {
      "cell_type": "markdown",
      "source": [
        "<ul><font size = 5 color='Orange'>\n",
        "Learning Goals</font>\n",
        "<font color = 'Orange'>\n",
        "<ul>We are using the same dataset as the previous laboratory exercise, now you need to build Neural networks</ul>\n",
        "\n",
        "<li>Build three different networks with using:</li>\n",
        "different layers, activation functions, neurans per layers, number of layers\n",
        "<li>train your network and set the optimal number of epochs and batch size</li>\n",
        "<li>Evaluate the three networks on the same test dataset</li>\n",
        "<li>Compare the results</li>\n",
        "</ul>"
      ],
      "metadata": {
        "id": "wsPEypIyjSq-"
      }
    },
    {
      "cell_type": "markdown",
      "source": [
        "The Dataset for this exercise depends on your index number i.e number_of_data_set = index % 10:\n",
        "\n",
        "\n",
        "0.  https://www.kaggle.com/tunguz/us-elections-dataset\n",
        "1.  https://www.kaggle.com/andrewmvd/heart-failure-clinical-data\n",
        "2.  https://www.kaggle.com/sootersaalu/amazon-top-50-bestselling-books-2009-2019\n",
        "3.  https://www.kaggle.com/anmolkumar/health-insurance-cross-sell-prediction\n",
        "4.  https://www.kaggle.com/uciml/red-wine-quality-cortez-et-al-2009\n",
        "5.  https://www.kaggle.com/anmolkumar/house-price-prediction-challenge\n",
        "6.  https://www.kaggle.com/datasets/tadhgfitzgerald/fifa-international-soccer-mens-ranking-1993now\n",
        "7.  https://www.kaggle.com/arslanali4343/real-estate-dataset\n",
        "8.  https://www.kaggle.com/terenceshin/covid19s-impact-on-airport-traffic\n",
        "9.  https://www.kaggle.com/arslanali4343/top-personality-dataset\n",
        "\n",
        "\n",
        "\n",
        "\n",
        "\n"
      ],
      "metadata": {
        "id": "qO5SWztjhay0"
      }
    },
    {
      "cell_type": "code",
      "source": [
        "from google.colab import drive\n",
        "drive.mount('/content/drive', force_remount=True)"
      ],
      "metadata": {
        "colab": {
          "base_uri": "https://localhost:8080/"
        },
        "id": "Q6Iy24fARuge",
        "outputId": "8229cf46-9b1f-404e-9255-42694dda10a5"
      },
      "execution_count": null,
      "outputs": [
        {
          "output_type": "stream",
          "name": "stdout",
          "text": [
            "Mounted at /content/drive\n"
          ]
        }
      ]
    },
    {
      "cell_type": "code",
      "source": [
        "import pandas as pd\n",
        "\n",
        "data = pd.read_csv('/content/drive/MyDrive/Colab Notebooks/Datasets/winequality-red.csv')"
      ],
      "metadata": {
        "id": "WORtycj8iCA8"
      },
      "execution_count": null,
      "outputs": []
    },
    {
      "cell_type": "code",
      "source": [
        "from google.colab import drive\n",
        "drive.mount('/content/drive')"
      ],
      "metadata": {
        "colab": {
          "base_uri": "https://localhost:8080/"
        },
        "id": "7x1lkDqbBZTw",
        "outputId": "55cbf2c9-88c1-4b0e-a19d-d876ee2f01dd"
      },
      "execution_count": null,
      "outputs": [
        {
          "output_type": "stream",
          "name": "stdout",
          "text": [
            "Drive already mounted at /content/drive; to attempt to forcibly remount, call drive.mount(\"/content/drive\", force_remount=True).\n"
          ]
        }
      ]
    },
    {
      "cell_type": "code",
      "execution_count": null,
      "metadata": {
        "id": "tNi3STyahTOf",
        "colab": {
          "base_uri": "https://localhost:8080/",
          "height": 423
        },
        "outputId": "00349393-dacd-4893-d123-b6f26ff56d63"
      },
      "outputs": [
        {
          "output_type": "execute_result",
          "data": {
            "text/plain": [
              "      fixed acidity  volatile acidity  citric acid  residual sugar  chlorides  \\\n",
              "0               7.4             0.700         0.00             1.9      0.076   \n",
              "1               7.8             0.880         0.00             2.6      0.098   \n",
              "2               7.8             0.760         0.04             2.3      0.092   \n",
              "3              11.2             0.280         0.56             1.9      0.075   \n",
              "4               7.4             0.700         0.00             1.9      0.076   \n",
              "...             ...               ...          ...             ...        ...   \n",
              "1594            6.2             0.600         0.08             2.0      0.090   \n",
              "1595            5.9             0.550         0.10             2.2      0.062   \n",
              "1596            6.3             0.510         0.13             2.3      0.076   \n",
              "1597            5.9             0.645         0.12             2.0      0.075   \n",
              "1598            6.0             0.310         0.47             3.6      0.067   \n",
              "\n",
              "      free sulfur dioxide  total sulfur dioxide  density    pH  sulphates  \\\n",
              "0                    11.0                  34.0  0.99780  3.51       0.56   \n",
              "1                    25.0                  67.0  0.99680  3.20       0.68   \n",
              "2                    15.0                  54.0  0.99700  3.26       0.65   \n",
              "3                    17.0                  60.0  0.99800  3.16       0.58   \n",
              "4                    11.0                  34.0  0.99780  3.51       0.56   \n",
              "...                   ...                   ...      ...   ...        ...   \n",
              "1594                 32.0                  44.0  0.99490  3.45       0.58   \n",
              "1595                 39.0                  51.0  0.99512  3.52       0.76   \n",
              "1596                 29.0                  40.0  0.99574  3.42       0.75   \n",
              "1597                 32.0                  44.0  0.99547  3.57       0.71   \n",
              "1598                 18.0                  42.0  0.99549  3.39       0.66   \n",
              "\n",
              "      alcohol  quality  \n",
              "0         9.4        5  \n",
              "1         9.8        5  \n",
              "2         9.8        5  \n",
              "3         9.8        6  \n",
              "4         9.4        5  \n",
              "...       ...      ...  \n",
              "1594     10.5        5  \n",
              "1595     11.2        6  \n",
              "1596     11.0        6  \n",
              "1597     10.2        5  \n",
              "1598     11.0        6  \n",
              "\n",
              "[1599 rows x 12 columns]"
            ],
            "text/html": [
              "\n",
              "  <div id=\"df-9f876cde-347f-4084-8ffe-e9060f0ea726\">\n",
              "    <div class=\"colab-df-container\">\n",
              "      <div>\n",
              "<style scoped>\n",
              "    .dataframe tbody tr th:only-of-type {\n",
              "        vertical-align: middle;\n",
              "    }\n",
              "\n",
              "    .dataframe tbody tr th {\n",
              "        vertical-align: top;\n",
              "    }\n",
              "\n",
              "    .dataframe thead th {\n",
              "        text-align: right;\n",
              "    }\n",
              "</style>\n",
              "<table border=\"1\" class=\"dataframe\">\n",
              "  <thead>\n",
              "    <tr style=\"text-align: right;\">\n",
              "      <th></th>\n",
              "      <th>fixed acidity</th>\n",
              "      <th>volatile acidity</th>\n",
              "      <th>citric acid</th>\n",
              "      <th>residual sugar</th>\n",
              "      <th>chlorides</th>\n",
              "      <th>free sulfur dioxide</th>\n",
              "      <th>total sulfur dioxide</th>\n",
              "      <th>density</th>\n",
              "      <th>pH</th>\n",
              "      <th>sulphates</th>\n",
              "      <th>alcohol</th>\n",
              "      <th>quality</th>\n",
              "    </tr>\n",
              "  </thead>\n",
              "  <tbody>\n",
              "    <tr>\n",
              "      <th>0</th>\n",
              "      <td>7.4</td>\n",
              "      <td>0.700</td>\n",
              "      <td>0.00</td>\n",
              "      <td>1.9</td>\n",
              "      <td>0.076</td>\n",
              "      <td>11.0</td>\n",
              "      <td>34.0</td>\n",
              "      <td>0.99780</td>\n",
              "      <td>3.51</td>\n",
              "      <td>0.56</td>\n",
              "      <td>9.4</td>\n",
              "      <td>5</td>\n",
              "    </tr>\n",
              "    <tr>\n",
              "      <th>1</th>\n",
              "      <td>7.8</td>\n",
              "      <td>0.880</td>\n",
              "      <td>0.00</td>\n",
              "      <td>2.6</td>\n",
              "      <td>0.098</td>\n",
              "      <td>25.0</td>\n",
              "      <td>67.0</td>\n",
              "      <td>0.99680</td>\n",
              "      <td>3.20</td>\n",
              "      <td>0.68</td>\n",
              "      <td>9.8</td>\n",
              "      <td>5</td>\n",
              "    </tr>\n",
              "    <tr>\n",
              "      <th>2</th>\n",
              "      <td>7.8</td>\n",
              "      <td>0.760</td>\n",
              "      <td>0.04</td>\n",
              "      <td>2.3</td>\n",
              "      <td>0.092</td>\n",
              "      <td>15.0</td>\n",
              "      <td>54.0</td>\n",
              "      <td>0.99700</td>\n",
              "      <td>3.26</td>\n",
              "      <td>0.65</td>\n",
              "      <td>9.8</td>\n",
              "      <td>5</td>\n",
              "    </tr>\n",
              "    <tr>\n",
              "      <th>3</th>\n",
              "      <td>11.2</td>\n",
              "      <td>0.280</td>\n",
              "      <td>0.56</td>\n",
              "      <td>1.9</td>\n",
              "      <td>0.075</td>\n",
              "      <td>17.0</td>\n",
              "      <td>60.0</td>\n",
              "      <td>0.99800</td>\n",
              "      <td>3.16</td>\n",
              "      <td>0.58</td>\n",
              "      <td>9.8</td>\n",
              "      <td>6</td>\n",
              "    </tr>\n",
              "    <tr>\n",
              "      <th>4</th>\n",
              "      <td>7.4</td>\n",
              "      <td>0.700</td>\n",
              "      <td>0.00</td>\n",
              "      <td>1.9</td>\n",
              "      <td>0.076</td>\n",
              "      <td>11.0</td>\n",
              "      <td>34.0</td>\n",
              "      <td>0.99780</td>\n",
              "      <td>3.51</td>\n",
              "      <td>0.56</td>\n",
              "      <td>9.4</td>\n",
              "      <td>5</td>\n",
              "    </tr>\n",
              "    <tr>\n",
              "      <th>...</th>\n",
              "      <td>...</td>\n",
              "      <td>...</td>\n",
              "      <td>...</td>\n",
              "      <td>...</td>\n",
              "      <td>...</td>\n",
              "      <td>...</td>\n",
              "      <td>...</td>\n",
              "      <td>...</td>\n",
              "      <td>...</td>\n",
              "      <td>...</td>\n",
              "      <td>...</td>\n",
              "      <td>...</td>\n",
              "    </tr>\n",
              "    <tr>\n",
              "      <th>1594</th>\n",
              "      <td>6.2</td>\n",
              "      <td>0.600</td>\n",
              "      <td>0.08</td>\n",
              "      <td>2.0</td>\n",
              "      <td>0.090</td>\n",
              "      <td>32.0</td>\n",
              "      <td>44.0</td>\n",
              "      <td>0.99490</td>\n",
              "      <td>3.45</td>\n",
              "      <td>0.58</td>\n",
              "      <td>10.5</td>\n",
              "      <td>5</td>\n",
              "    </tr>\n",
              "    <tr>\n",
              "      <th>1595</th>\n",
              "      <td>5.9</td>\n",
              "      <td>0.550</td>\n",
              "      <td>0.10</td>\n",
              "      <td>2.2</td>\n",
              "      <td>0.062</td>\n",
              "      <td>39.0</td>\n",
              "      <td>51.0</td>\n",
              "      <td>0.99512</td>\n",
              "      <td>3.52</td>\n",
              "      <td>0.76</td>\n",
              "      <td>11.2</td>\n",
              "      <td>6</td>\n",
              "    </tr>\n",
              "    <tr>\n",
              "      <th>1596</th>\n",
              "      <td>6.3</td>\n",
              "      <td>0.510</td>\n",
              "      <td>0.13</td>\n",
              "      <td>2.3</td>\n",
              "      <td>0.076</td>\n",
              "      <td>29.0</td>\n",
              "      <td>40.0</td>\n",
              "      <td>0.99574</td>\n",
              "      <td>3.42</td>\n",
              "      <td>0.75</td>\n",
              "      <td>11.0</td>\n",
              "      <td>6</td>\n",
              "    </tr>\n",
              "    <tr>\n",
              "      <th>1597</th>\n",
              "      <td>5.9</td>\n",
              "      <td>0.645</td>\n",
              "      <td>0.12</td>\n",
              "      <td>2.0</td>\n",
              "      <td>0.075</td>\n",
              "      <td>32.0</td>\n",
              "      <td>44.0</td>\n",
              "      <td>0.99547</td>\n",
              "      <td>3.57</td>\n",
              "      <td>0.71</td>\n",
              "      <td>10.2</td>\n",
              "      <td>5</td>\n",
              "    </tr>\n",
              "    <tr>\n",
              "      <th>1598</th>\n",
              "      <td>6.0</td>\n",
              "      <td>0.310</td>\n",
              "      <td>0.47</td>\n",
              "      <td>3.6</td>\n",
              "      <td>0.067</td>\n",
              "      <td>18.0</td>\n",
              "      <td>42.0</td>\n",
              "      <td>0.99549</td>\n",
              "      <td>3.39</td>\n",
              "      <td>0.66</td>\n",
              "      <td>11.0</td>\n",
              "      <td>6</td>\n",
              "    </tr>\n",
              "  </tbody>\n",
              "</table>\n",
              "<p>1599 rows × 12 columns</p>\n",
              "</div>\n",
              "      <button class=\"colab-df-convert\" onclick=\"convertToInteractive('df-9f876cde-347f-4084-8ffe-e9060f0ea726')\"\n",
              "              title=\"Convert this dataframe to an interactive table.\"\n",
              "              style=\"display:none;\">\n",
              "        \n",
              "  <svg xmlns=\"http://www.w3.org/2000/svg\" height=\"24px\"viewBox=\"0 0 24 24\"\n",
              "       width=\"24px\">\n",
              "    <path d=\"M0 0h24v24H0V0z\" fill=\"none\"/>\n",
              "    <path d=\"M18.56 5.44l.94 2.06.94-2.06 2.06-.94-2.06-.94-.94-2.06-.94 2.06-2.06.94zm-11 1L8.5 8.5l.94-2.06 2.06-.94-2.06-.94L8.5 2.5l-.94 2.06-2.06.94zm10 10l.94 2.06.94-2.06 2.06-.94-2.06-.94-.94-2.06-.94 2.06-2.06.94z\"/><path d=\"M17.41 7.96l-1.37-1.37c-.4-.4-.92-.59-1.43-.59-.52 0-1.04.2-1.43.59L10.3 9.45l-7.72 7.72c-.78.78-.78 2.05 0 2.83L4 21.41c.39.39.9.59 1.41.59.51 0 1.02-.2 1.41-.59l7.78-7.78 2.81-2.81c.8-.78.8-2.07 0-2.86zM5.41 20L4 18.59l7.72-7.72 1.47 1.35L5.41 20z\"/>\n",
              "  </svg>\n",
              "      </button>\n",
              "      \n",
              "  <style>\n",
              "    .colab-df-container {\n",
              "      display:flex;\n",
              "      flex-wrap:wrap;\n",
              "      gap: 12px;\n",
              "    }\n",
              "\n",
              "    .colab-df-convert {\n",
              "      background-color: #E8F0FE;\n",
              "      border: none;\n",
              "      border-radius: 50%;\n",
              "      cursor: pointer;\n",
              "      display: none;\n",
              "      fill: #1967D2;\n",
              "      height: 32px;\n",
              "      padding: 0 0 0 0;\n",
              "      width: 32px;\n",
              "    }\n",
              "\n",
              "    .colab-df-convert:hover {\n",
              "      background-color: #E2EBFA;\n",
              "      box-shadow: 0px 1px 2px rgba(60, 64, 67, 0.3), 0px 1px 3px 1px rgba(60, 64, 67, 0.15);\n",
              "      fill: #174EA6;\n",
              "    }\n",
              "\n",
              "    [theme=dark] .colab-df-convert {\n",
              "      background-color: #3B4455;\n",
              "      fill: #D2E3FC;\n",
              "    }\n",
              "\n",
              "    [theme=dark] .colab-df-convert:hover {\n",
              "      background-color: #434B5C;\n",
              "      box-shadow: 0px 1px 3px 1px rgba(0, 0, 0, 0.15);\n",
              "      filter: drop-shadow(0px 1px 2px rgba(0, 0, 0, 0.3));\n",
              "      fill: #FFFFFF;\n",
              "    }\n",
              "  </style>\n",
              "\n",
              "      <script>\n",
              "        const buttonEl =\n",
              "          document.querySelector('#df-9f876cde-347f-4084-8ffe-e9060f0ea726 button.colab-df-convert');\n",
              "        buttonEl.style.display =\n",
              "          google.colab.kernel.accessAllowed ? 'block' : 'none';\n",
              "\n",
              "        async function convertToInteractive(key) {\n",
              "          const element = document.querySelector('#df-9f876cde-347f-4084-8ffe-e9060f0ea726');\n",
              "          const dataTable =\n",
              "            await google.colab.kernel.invokeFunction('convertToInteractive',\n",
              "                                                     [key], {});\n",
              "          if (!dataTable) return;\n",
              "\n",
              "          const docLinkHtml = 'Like what you see? Visit the ' +\n",
              "            '<a target=\"_blank\" href=https://colab.research.google.com/notebooks/data_table.ipynb>data table notebook</a>'\n",
              "            + ' to learn more about interactive tables.';\n",
              "          element.innerHTML = '';\n",
              "          dataTable['output_type'] = 'display_data';\n",
              "          await google.colab.output.renderOutput(dataTable, element);\n",
              "          const docLink = document.createElement('div');\n",
              "          docLink.innerHTML = docLinkHtml;\n",
              "          element.appendChild(docLink);\n",
              "        }\n",
              "      </script>\n",
              "    </div>\n",
              "  </div>\n",
              "  "
            ]
          },
          "metadata": {},
          "execution_count": 6
        }
      ],
      "source": [
        "data"
      ]
    },
    {
      "cell_type": "code",
      "source": [
        "x = data.drop(['alcohol'],axis=1)\n",
        "y = data['alcohol']"
      ],
      "metadata": {
        "id": "pSIvvw4YUL3C"
      },
      "execution_count": null,
      "outputs": []
    },
    {
      "cell_type": "code",
      "source": [
        "from sklearn.model_selection import train_test_split\n",
        "X_train,X_test,Y_train,Y_test = train_test_split(x,y,test_size = 0.2)"
      ],
      "metadata": {
        "id": "YA_vB3kKUnAT"
      },
      "execution_count": null,
      "outputs": []
    },
    {
      "cell_type": "code",
      "source": [
        "from sklearn.preprocessing import StandardScaler\n",
        "scaler = StandardScaler()\n",
        "X_train = scaler.fit_transform(X_train)\n",
        "X_test = scaler.transform(X_test)"
      ],
      "metadata": {
        "id": "4pQOKgAsWKhx"
      },
      "execution_count": null,
      "outputs": []
    },
    {
      "cell_type": "code",
      "source": [
        "X_train.shape"
      ],
      "metadata": {
        "colab": {
          "base_uri": "https://localhost:8080/"
        },
        "id": "fru-CRDIUwqh",
        "outputId": "cf2ff3be-66c2-4300-9bc5-e2997f4c1d6c"
      },
      "execution_count": null,
      "outputs": [
        {
          "output_type": "execute_result",
          "data": {
            "text/plain": [
              "(1279, 11)"
            ]
          },
          "metadata": {},
          "execution_count": 10
        }
      ]
    },
    {
      "cell_type": "code",
      "source": [
        "from keras.models import Sequential\n",
        "from keras.layers import Dense\n",
        "from keras.layers import Dense,LSTM"
      ],
      "metadata": {
        "id": "a19HQD1jUzwR"
      },
      "execution_count": null,
      "outputs": []
    },
    {
      "cell_type": "code",
      "source": [
        "model = Sequential()\n",
        "#input\n",
        "model.add(Dense(16, input_dim=11,activation ='relu'))\n",
        "#hidden\n",
        "model.add(Dense(256,activation ='relu'))\n",
        "model.add(Dense(128, activation ='relu'))\n",
        "model.add(Dense(64,activation ='relu'))\n",
        "#output\n",
        "model.add(Dense(1, activation ='linear'))"
      ],
      "metadata": {
        "id": "qyz6EZUJVIKP"
      },
      "execution_count": null,
      "outputs": []
    },
    {
      "cell_type": "code",
      "source": [
        "model.compile(optimizer='adam',loss='categorical_crossentropy',metrics=['accuracy'])"
      ],
      "metadata": {
        "id": "Xif5DDTtVQh2"
      },
      "execution_count": null,
      "outputs": []
    },
    {
      "cell_type": "code",
      "source": [
        "model.compile(loss='mean_squared_error',optimizer='adam',metrics=['MeanSquaredError'])"
      ],
      "metadata": {
        "id": "IaG6DbJ0VS59"
      },
      "execution_count": null,
      "outputs": []
    },
    {
      "cell_type": "code",
      "source": [
        "pom=model.fit(X_train,Y_train,epochs=40,batch_size=16,validation_split=0.2)"
      ],
      "metadata": {
        "colab": {
          "base_uri": "https://localhost:8080/"
        },
        "id": "2Xnv6L7xVo5O",
        "outputId": "34dbf92e-9e8e-4e29-c4d0-8a11e20e24cd"
      },
      "execution_count": null,
      "outputs": [
        {
          "output_type": "stream",
          "name": "stdout",
          "text": [
            "Epoch 1/40\n",
            "64/64 [==============================] - 1s 5ms/step - loss: 37.4017 - mean_squared_error: 37.4017 - val_loss: 8.4350 - val_mean_squared_error: 8.4350\n",
            "Epoch 2/40\n",
            "64/64 [==============================] - 0s 3ms/step - loss: 5.2132 - mean_squared_error: 5.2132 - val_loss: 2.7780 - val_mean_squared_error: 2.7780\n",
            "Epoch 3/40\n",
            "64/64 [==============================] - 0s 3ms/step - loss: 2.4256 - mean_squared_error: 2.4256 - val_loss: 1.2825 - val_mean_squared_error: 1.2825\n",
            "Epoch 4/40\n",
            "64/64 [==============================] - 0s 3ms/step - loss: 1.2209 - mean_squared_error: 1.2209 - val_loss: 0.7283 - val_mean_squared_error: 0.7283\n",
            "Epoch 5/40\n",
            "64/64 [==============================] - 0s 3ms/step - loss: 0.7480 - mean_squared_error: 0.7480 - val_loss: 0.6429 - val_mean_squared_error: 0.6429\n",
            "Epoch 6/40\n",
            "64/64 [==============================] - 0s 3ms/step - loss: 0.5771 - mean_squared_error: 0.5771 - val_loss: 0.5136 - val_mean_squared_error: 0.5136\n",
            "Epoch 7/40\n",
            "64/64 [==============================] - 0s 3ms/step - loss: 0.4923 - mean_squared_error: 0.4923 - val_loss: 0.5178 - val_mean_squared_error: 0.5178\n",
            "Epoch 8/40\n",
            "64/64 [==============================] - 0s 3ms/step - loss: 0.4792 - mean_squared_error: 0.4792 - val_loss: 0.4661 - val_mean_squared_error: 0.4661\n",
            "Epoch 9/40\n",
            "64/64 [==============================] - 0s 3ms/step - loss: 0.4263 - mean_squared_error: 0.4263 - val_loss: 0.4890 - val_mean_squared_error: 0.4890\n",
            "Epoch 10/40\n",
            "64/64 [==============================] - 0s 3ms/step - loss: 0.4345 - mean_squared_error: 0.4345 - val_loss: 0.4615 - val_mean_squared_error: 0.4615\n",
            "Epoch 11/40\n",
            "64/64 [==============================] - 0s 3ms/step - loss: 0.3645 - mean_squared_error: 0.3645 - val_loss: 0.4457 - val_mean_squared_error: 0.4457\n",
            "Epoch 12/40\n",
            "64/64 [==============================] - 0s 3ms/step - loss: 0.3523 - mean_squared_error: 0.3523 - val_loss: 0.3835 - val_mean_squared_error: 0.3835\n",
            "Epoch 13/40\n",
            "64/64 [==============================] - 0s 3ms/step - loss: 0.3385 - mean_squared_error: 0.3385 - val_loss: 0.3734 - val_mean_squared_error: 0.3734\n",
            "Epoch 14/40\n",
            "64/64 [==============================] - 0s 3ms/step - loss: 0.3192 - mean_squared_error: 0.3192 - val_loss: 0.3889 - val_mean_squared_error: 0.3889\n",
            "Epoch 15/40\n",
            "64/64 [==============================] - 0s 3ms/step - loss: 0.3303 - mean_squared_error: 0.3303 - val_loss: 0.3649 - val_mean_squared_error: 0.3649\n",
            "Epoch 16/40\n",
            "64/64 [==============================] - 0s 3ms/step - loss: 0.3115 - mean_squared_error: 0.3115 - val_loss: 0.3598 - val_mean_squared_error: 0.3598\n",
            "Epoch 17/40\n",
            "64/64 [==============================] - 0s 3ms/step - loss: 0.2769 - mean_squared_error: 0.2769 - val_loss: 0.3479 - val_mean_squared_error: 0.3479\n",
            "Epoch 18/40\n",
            "64/64 [==============================] - 0s 3ms/step - loss: 0.2810 - mean_squared_error: 0.2810 - val_loss: 0.3596 - val_mean_squared_error: 0.3596\n",
            "Epoch 19/40\n",
            "64/64 [==============================] - 0s 3ms/step - loss: 0.2707 - mean_squared_error: 0.2707 - val_loss: 0.3840 - val_mean_squared_error: 0.3840\n",
            "Epoch 20/40\n",
            "64/64 [==============================] - 0s 3ms/step - loss: 0.2615 - mean_squared_error: 0.2615 - val_loss: 0.3501 - val_mean_squared_error: 0.3501\n",
            "Epoch 21/40\n",
            "64/64 [==============================] - 0s 3ms/step - loss: 0.2813 - mean_squared_error: 0.2813 - val_loss: 0.3823 - val_mean_squared_error: 0.3823\n",
            "Epoch 22/40\n",
            "64/64 [==============================] - 0s 3ms/step - loss: 0.2371 - mean_squared_error: 0.2371 - val_loss: 0.3324 - val_mean_squared_error: 0.3324\n",
            "Epoch 23/40\n",
            "64/64 [==============================] - 0s 3ms/step - loss: 0.2279 - mean_squared_error: 0.2279 - val_loss: 0.3192 - val_mean_squared_error: 0.3192\n",
            "Epoch 24/40\n",
            "64/64 [==============================] - 0s 3ms/step - loss: 0.2685 - mean_squared_error: 0.2685 - val_loss: 0.4462 - val_mean_squared_error: 0.4462\n",
            "Epoch 25/40\n",
            "64/64 [==============================] - 0s 3ms/step - loss: 0.2234 - mean_squared_error: 0.2234 - val_loss: 0.2922 - val_mean_squared_error: 0.2922\n",
            "Epoch 26/40\n",
            "64/64 [==============================] - 0s 3ms/step - loss: 0.2129 - mean_squared_error: 0.2129 - val_loss: 0.3015 - val_mean_squared_error: 0.3015\n",
            "Epoch 27/40\n",
            "64/64 [==============================] - 0s 3ms/step - loss: 0.2030 - mean_squared_error: 0.2030 - val_loss: 0.3269 - val_mean_squared_error: 0.3269\n",
            "Epoch 28/40\n",
            "64/64 [==============================] - 0s 3ms/step - loss: 0.1942 - mean_squared_error: 0.1942 - val_loss: 0.3203 - val_mean_squared_error: 0.3203\n",
            "Epoch 29/40\n",
            "64/64 [==============================] - 0s 3ms/step - loss: 0.2042 - mean_squared_error: 0.2042 - val_loss: 0.3028 - val_mean_squared_error: 0.3028\n",
            "Epoch 30/40\n",
            "64/64 [==============================] - 0s 3ms/step - loss: 0.1839 - mean_squared_error: 0.1839 - val_loss: 0.3363 - val_mean_squared_error: 0.3363\n",
            "Epoch 31/40\n",
            "64/64 [==============================] - 0s 3ms/step - loss: 0.1815 - mean_squared_error: 0.1815 - val_loss: 0.3491 - val_mean_squared_error: 0.3491\n",
            "Epoch 32/40\n",
            "64/64 [==============================] - 0s 3ms/step - loss: 0.2279 - mean_squared_error: 0.2279 - val_loss: 0.3637 - val_mean_squared_error: 0.3637\n",
            "Epoch 33/40\n",
            "64/64 [==============================] - 0s 3ms/step - loss: 0.2178 - mean_squared_error: 0.2178 - val_loss: 0.2982 - val_mean_squared_error: 0.2982\n",
            "Epoch 34/40\n",
            "64/64 [==============================] - 0s 3ms/step - loss: 0.1698 - mean_squared_error: 0.1698 - val_loss: 0.2820 - val_mean_squared_error: 0.2820\n",
            "Epoch 35/40\n",
            "64/64 [==============================] - 0s 3ms/step - loss: 0.1582 - mean_squared_error: 0.1582 - val_loss: 0.3396 - val_mean_squared_error: 0.3396\n",
            "Epoch 36/40\n",
            "64/64 [==============================] - 0s 3ms/step - loss: 0.1588 - mean_squared_error: 0.1588 - val_loss: 0.3216 - val_mean_squared_error: 0.3216\n",
            "Epoch 37/40\n",
            "64/64 [==============================] - 0s 3ms/step - loss: 0.1594 - mean_squared_error: 0.1594 - val_loss: 0.3038 - val_mean_squared_error: 0.3038\n",
            "Epoch 38/40\n",
            "64/64 [==============================] - 0s 3ms/step - loss: 0.1573 - mean_squared_error: 0.1573 - val_loss: 0.2897 - val_mean_squared_error: 0.2897\n",
            "Epoch 39/40\n",
            "64/64 [==============================] - 0s 3ms/step - loss: 0.1670 - mean_squared_error: 0.1670 - val_loss: 0.5263 - val_mean_squared_error: 0.5263\n",
            "Epoch 40/40\n",
            "64/64 [==============================] - 0s 3ms/step - loss: 0.1784 - mean_squared_error: 0.1784 - val_loss: 0.3238 - val_mean_squared_error: 0.3238\n"
          ]
        }
      ]
    },
    {
      "cell_type": "code",
      "source": [
        "import matplotlib.pyplot as plt\n",
        "\n",
        "plt.plot(pom.history['loss'])\n",
        "plt.plot(pom.history['val_loss'])"
      ],
      "metadata": {
        "colab": {
          "base_uri": "https://localhost:8080/",
          "height": 283
        },
        "id": "ndsgY5YEVw61",
        "outputId": "08dba225-9eb0-4203-89cf-348104ae622a"
      },
      "execution_count": null,
      "outputs": [
        {
          "output_type": "execute_result",
          "data": {
            "text/plain": [
              "[<matplotlib.lines.Line2D at 0x7f857632b3d0>]"
            ]
          },
          "metadata": {},
          "execution_count": 18
        },
        {
          "output_type": "display_data",
          "data": {
            "text/plain": [
              "<Figure size 432x288 with 1 Axes>"
            ],
            "image/png": "[encoded data removed]"
          },
          "metadata": {
            "needs_background": "light"
          }
        }
      ]
    },
    {
      "cell_type": "code",
      "source": [
        "y_pred = model.predict(X_test)"
      ],
      "metadata": {
        "colab": {
          "base_uri": "https://localhost:8080/"
        },
        "id": "GN75T2wsV2p4",
        "outputId": "c16a2be2-a6a8-417d-b185-a53f819dcd6a"
      },
      "execution_count": null,
      "outputs": [
        {
          "output_type": "stream",
          "name": "stdout",
          "text": [
            "10/10 [==============================] - 0s 3ms/step\n"
          ]
        }
      ]
    },
    {
      "cell_type": "code",
      "source": [
        "from sklearn.metrics import r2_score\n",
        "\n",
        "r2_score(Y_test,y_pred)"
      ],
      "metadata": {
        "colab": {
          "base_uri": "https://localhost:8080/"
        },
        "id": "wWkcd5yoV5Qq",
        "outputId": "9df46497-f9f1-4bfe-fa82-ce0f2b22bb7e"
      },
      "execution_count": null,
      "outputs": [
        {
          "output_type": "execute_result",
          "data": {
            "text/plain": [
              "0.6623513183413219"
            ]
          },
          "metadata": {},
          "execution_count": 20
        }
      ]
    },
    {
      "cell_type": "code",
      "source": [
        "model = Sequential()\n",
        "#input\n",
        "model.add(Dense(20, input_dim=11,activation ='relu'))\n",
        "#hidden\n",
        "model.add(Dense(300,activation ='relu'))\n",
        "model.add(Dense(132, activation ='relu'))\n",
        "model.add(Dense(64,activation ='relu'))\n",
        "#output\n",
        "model.add(Dense(1, activation ='linear'))"
      ],
      "metadata": {
        "id": "wh3zdbm5Dp1O"
      },
      "execution_count": null,
      "outputs": []
    },
    {
      "cell_type": "code",
      "source": [
        "model.compile(optimizer='adam',loss='categorical_crossentropy',metrics=['accuracy'])\n",
        "model.compile(loss='mean_squared_error',optimizer='adam',metrics=['MeanSquaredError'])\n",
        "pom=model.fit(X_train,Y_train,epochs=70,batch_size=16,validation_split=0.2)"
      ],
      "metadata": {
        "colab": {
          "base_uri": "https://localhost:8080/"
        },
        "id": "AVp2U4HGD0p0",
        "outputId": "bf2b61c3-4b57-4314-8c3c-a293b210e750"
      },
      "execution_count": null,
      "outputs": [
        {
          "output_type": "stream",
          "name": "stdout",
          "text": [
            "Epoch 1/70\n",
            "64/64 [==============================] - 1s 5ms/step - loss: 31.7883 - mean_squared_error: 31.7883 - val_loss: 7.3009 - val_mean_squared_error: 7.3009\n",
            "Epoch 2/70\n",
            "64/64 [==============================] - 0s 4ms/step - loss: 5.7247 - mean_squared_error: 5.7247 - val_loss: 3.8509 - val_mean_squared_error: 3.8509\n",
            "Epoch 3/70\n",
            "64/64 [==============================] - 0s 4ms/step - loss: 2.9162 - mean_squared_error: 2.9162 - val_loss: 2.0312 - val_mean_squared_error: 2.0312\n",
            "Epoch 4/70\n",
            "64/64 [==============================] - 0s 3ms/step - loss: 1.5100 - mean_squared_error: 1.5100 - val_loss: 0.9631 - val_mean_squared_error: 0.9631\n",
            "Epoch 5/70\n",
            "64/64 [==============================] - 0s 3ms/step - loss: 0.8368 - mean_squared_error: 0.8368 - val_loss: 0.6369 - val_mean_squared_error: 0.6369\n",
            "Epoch 6/70\n",
            "64/64 [==============================] - 0s 3ms/step - loss: 0.5715 - mean_squared_error: 0.5715 - val_loss: 0.4969 - val_mean_squared_error: 0.4969\n",
            "Epoch 7/70\n",
            "64/64 [==============================] - 0s 3ms/step - loss: 0.4750 - mean_squared_error: 0.4750 - val_loss: 0.4540 - val_mean_squared_error: 0.4540\n",
            "Epoch 8/70\n",
            "64/64 [==============================] - 0s 4ms/step - loss: 0.3970 - mean_squared_error: 0.3970 - val_loss: 0.4177 - val_mean_squared_error: 0.4177\n",
            "Epoch 9/70\n",
            "64/64 [==============================] - 0s 3ms/step - loss: 0.4149 - mean_squared_error: 0.4149 - val_loss: 0.3644 - val_mean_squared_error: 0.3644\n",
            "Epoch 10/70\n",
            "64/64 [==============================] - 0s 3ms/step - loss: 0.3227 - mean_squared_error: 0.3227 - val_loss: 0.3759 - val_mean_squared_error: 0.3759\n",
            "Epoch 11/70\n",
            "64/64 [==============================] - 0s 3ms/step - loss: 0.3204 - mean_squared_error: 0.3204 - val_loss: 0.4065 - val_mean_squared_error: 0.4065\n",
            "Epoch 12/70\n",
            "64/64 [==============================] - 0s 3ms/step - loss: 0.3218 - mean_squared_error: 0.3218 - val_loss: 0.3583 - val_mean_squared_error: 0.3583\n",
            "Epoch 13/70\n",
            "64/64 [==============================] - 0s 3ms/step - loss: 0.2841 - mean_squared_error: 0.2841 - val_loss: 0.3517 - val_mean_squared_error: 0.3517\n",
            "Epoch 14/70\n",
            "64/64 [==============================] - 0s 3ms/step - loss: 0.2839 - mean_squared_error: 0.2839 - val_loss: 0.3551 - val_mean_squared_error: 0.3551\n",
            "Epoch 15/70\n",
            "64/64 [==============================] - 0s 3ms/step - loss: 0.2776 - mean_squared_error: 0.2776 - val_loss: 0.4037 - val_mean_squared_error: 0.4037\n",
            "Epoch 16/70\n",
            "64/64 [==============================] - 0s 3ms/step - loss: 0.2873 - mean_squared_error: 0.2873 - val_loss: 0.3594 - val_mean_squared_error: 0.3594\n",
            "Epoch 17/70\n",
            "64/64 [==============================] - 0s 3ms/step - loss: 0.2600 - mean_squared_error: 0.2600 - val_loss: 0.3135 - val_mean_squared_error: 0.3135\n",
            "Epoch 18/70\n",
            "64/64 [==============================] - 0s 3ms/step - loss: 0.2526 - mean_squared_error: 0.2526 - val_loss: 0.3020 - val_mean_squared_error: 0.3020\n",
            "Epoch 19/70\n",
            "64/64 [==============================] - 0s 3ms/step - loss: 0.2251 - mean_squared_error: 0.2251 - val_loss: 0.3695 - val_mean_squared_error: 0.3695\n",
            "Epoch 20/70\n",
            "64/64 [==============================] - 0s 3ms/step - loss: 0.2208 - mean_squared_error: 0.2208 - val_loss: 0.3200 - val_mean_squared_error: 0.3200\n",
            "Epoch 21/70\n",
            "64/64 [==============================] - 0s 3ms/step - loss: 0.2293 - mean_squared_error: 0.2293 - val_loss: 0.3213 - val_mean_squared_error: 0.3213\n",
            "Epoch 22/70\n",
            "64/64 [==============================] - 0s 4ms/step - loss: 0.2145 - mean_squared_error: 0.2145 - val_loss: 0.4774 - val_mean_squared_error: 0.4774\n",
            "Epoch 23/70\n",
            "64/64 [==============================] - 0s 3ms/step - loss: 0.2827 - mean_squared_error: 0.2827 - val_loss: 0.2943 - val_mean_squared_error: 0.2943\n",
            "Epoch 24/70\n",
            "64/64 [==============================] - 0s 3ms/step - loss: 0.2027 - mean_squared_error: 0.2027 - val_loss: 0.3104 - val_mean_squared_error: 0.3104\n",
            "Epoch 25/70\n",
            "64/64 [==============================] - 0s 3ms/step - loss: 0.1996 - mean_squared_error: 0.1996 - val_loss: 0.2686 - val_mean_squared_error: 0.2686\n",
            "Epoch 26/70\n",
            "64/64 [==============================] - 0s 3ms/step - loss: 0.1937 - mean_squared_error: 0.1937 - val_loss: 0.2798 - val_mean_squared_error: 0.2798\n",
            "Epoch 27/70\n",
            "64/64 [==============================] - 0s 3ms/step - loss: 0.2090 - mean_squared_error: 0.2090 - val_loss: 0.3315 - val_mean_squared_error: 0.3315\n",
            "Epoch 28/70\n",
            "64/64 [==============================] - 0s 3ms/step - loss: 0.1843 - mean_squared_error: 0.1843 - val_loss: 0.3100 - val_mean_squared_error: 0.3100\n",
            "Epoch 29/70\n",
            "64/64 [==============================] - 0s 4ms/step - loss: 0.1801 - mean_squared_error: 0.1801 - val_loss: 0.3131 - val_mean_squared_error: 0.3131\n",
            "Epoch 30/70\n",
            "64/64 [==============================] - 0s 3ms/step - loss: 0.2080 - mean_squared_error: 0.2080 - val_loss: 0.3042 - val_mean_squared_error: 0.3042\n",
            "Epoch 31/70\n",
            "64/64 [==============================] - 0s 3ms/step - loss: 0.1727 - mean_squared_error: 0.1727 - val_loss: 0.2920 - val_mean_squared_error: 0.2920\n",
            "Epoch 32/70\n",
            "64/64 [==============================] - 0s 3ms/step - loss: 0.1735 - mean_squared_error: 0.1735 - val_loss: 0.3675 - val_mean_squared_error: 0.3675\n",
            "Epoch 33/70\n",
            "64/64 [==============================] - 0s 3ms/step - loss: 0.1997 - mean_squared_error: 0.1997 - val_loss: 0.3149 - val_mean_squared_error: 0.3149\n",
            "Epoch 34/70\n",
            "64/64 [==============================] - 0s 4ms/step - loss: 0.1808 - mean_squared_error: 0.1808 - val_loss: 0.2976 - val_mean_squared_error: 0.2976\n",
            "Epoch 35/70\n",
            "64/64 [==============================] - 0s 3ms/step - loss: 0.1699 - mean_squared_error: 0.1699 - val_loss: 0.3134 - val_mean_squared_error: 0.3134\n",
            "Epoch 36/70\n",
            "64/64 [==============================] - 0s 3ms/step - loss: 0.2055 - mean_squared_error: 0.2055 - val_loss: 0.4716 - val_mean_squared_error: 0.4716\n",
            "Epoch 37/70\n",
            "64/64 [==============================] - 0s 4ms/step - loss: 0.1750 - mean_squared_error: 0.1750 - val_loss: 0.2946 - val_mean_squared_error: 0.2946\n",
            "Epoch 38/70\n",
            "64/64 [==============================] - 0s 3ms/step - loss: 0.1676 - mean_squared_error: 0.1676 - val_loss: 0.3397 - val_mean_squared_error: 0.3397\n",
            "Epoch 39/70\n",
            "64/64 [==============================] - 0s 3ms/step - loss: 0.1963 - mean_squared_error: 0.1963 - val_loss: 0.2805 - val_mean_squared_error: 0.2805\n",
            "Epoch 40/70\n",
            "64/64 [==============================] - 0s 3ms/step - loss: 0.1690 - mean_squared_error: 0.1690 - val_loss: 0.2861 - val_mean_squared_error: 0.2861\n",
            "Epoch 41/70\n",
            "64/64 [==============================] - 0s 4ms/step - loss: 0.1586 - mean_squared_error: 0.1586 - val_loss: 0.3375 - val_mean_squared_error: 0.3375\n",
            "Epoch 42/70\n",
            "64/64 [==============================] - 0s 4ms/step - loss: 0.1941 - mean_squared_error: 0.1941 - val_loss: 0.3866 - val_mean_squared_error: 0.3866\n",
            "Epoch 43/70\n",
            "64/64 [==============================] - 0s 4ms/step - loss: 0.1975 - mean_squared_error: 0.1975 - val_loss: 0.2812 - val_mean_squared_error: 0.2812\n",
            "Epoch 44/70\n",
            "64/64 [==============================] - 0s 4ms/step - loss: 0.1333 - mean_squared_error: 0.1333 - val_loss: 0.2897 - val_mean_squared_error: 0.2897\n",
            "Epoch 45/70\n",
            "64/64 [==============================] - 0s 3ms/step - loss: 0.1375 - mean_squared_error: 0.1375 - val_loss: 0.2768 - val_mean_squared_error: 0.2768\n",
            "Epoch 46/70\n",
            "64/64 [==============================] - 0s 3ms/step - loss: 0.1206 - mean_squared_error: 0.1206 - val_loss: 0.2809 - val_mean_squared_error: 0.2809\n",
            "Epoch 47/70\n",
            "64/64 [==============================] - 0s 4ms/step - loss: 0.1291 - mean_squared_error: 0.1291 - val_loss: 0.3200 - val_mean_squared_error: 0.3200\n",
            "Epoch 48/70\n",
            "64/64 [==============================] - 0s 3ms/step - loss: 0.1412 - mean_squared_error: 0.1412 - val_loss: 0.3195 - val_mean_squared_error: 0.3195\n",
            "Epoch 49/70\n",
            "64/64 [==============================] - 0s 3ms/step - loss: 0.1176 - mean_squared_error: 0.1176 - val_loss: 0.2648 - val_mean_squared_error: 0.2648\n",
            "Epoch 50/70\n",
            "64/64 [==============================] - 0s 3ms/step - loss: 0.1232 - mean_squared_error: 0.1232 - val_loss: 0.2882 - val_mean_squared_error: 0.2882\n",
            "Epoch 51/70\n",
            "64/64 [==============================] - 0s 3ms/step - loss: 0.1068 - mean_squared_error: 0.1068 - val_loss: 0.2650 - val_mean_squared_error: 0.2650\n",
            "Epoch 52/70\n",
            "64/64 [==============================] - 0s 3ms/step - loss: 0.1157 - mean_squared_error: 0.1157 - val_loss: 0.3128 - val_mean_squared_error: 0.3128\n",
            "Epoch 53/70\n",
            "64/64 [==============================] - 0s 3ms/step - loss: 0.1179 - mean_squared_error: 0.1179 - val_loss: 0.2723 - val_mean_squared_error: 0.2723\n",
            "Epoch 54/70\n",
            "64/64 [==============================] - 0s 3ms/step - loss: 0.1221 - mean_squared_error: 0.1221 - val_loss: 0.3005 - val_mean_squared_error: 0.3005\n",
            "Epoch 55/70\n",
            "64/64 [==============================] - 0s 4ms/step - loss: 0.1204 - mean_squared_error: 0.1204 - val_loss: 0.3361 - val_mean_squared_error: 0.3361\n",
            "Epoch 56/70\n",
            "64/64 [==============================] - 0s 4ms/step - loss: 0.1226 - mean_squared_error: 0.1226 - val_loss: 0.3399 - val_mean_squared_error: 0.3399\n",
            "Epoch 57/70\n",
            "64/64 [==============================] - 0s 3ms/step - loss: 0.1287 - mean_squared_error: 0.1287 - val_loss: 0.2870 - val_mean_squared_error: 0.2870\n",
            "Epoch 58/70\n",
            "64/64 [==============================] - 0s 3ms/step - loss: 0.1225 - mean_squared_error: 0.1225 - val_loss: 0.2667 - val_mean_squared_error: 0.2667\n",
            "Epoch 59/70\n",
            "64/64 [==============================] - 0s 3ms/step - loss: 0.1199 - mean_squared_error: 0.1199 - val_loss: 0.3212 - val_mean_squared_error: 0.3212\n",
            "Epoch 60/70\n",
            "64/64 [==============================] - 0s 3ms/step - loss: 0.1300 - mean_squared_error: 0.1300 - val_loss: 0.3539 - val_mean_squared_error: 0.3539\n",
            "Epoch 61/70\n",
            "64/64 [==============================] - 0s 3ms/step - loss: 0.1178 - mean_squared_error: 0.1178 - val_loss: 0.2825 - val_mean_squared_error: 0.2825\n",
            "Epoch 62/70\n",
            "64/64 [==============================] - 0s 3ms/step - loss: 0.1152 - mean_squared_error: 0.1152 - val_loss: 0.3525 - val_mean_squared_error: 0.3525\n",
            "Epoch 63/70\n",
            "64/64 [==============================] - 0s 3ms/step - loss: 0.1124 - mean_squared_error: 0.1124 - val_loss: 0.3584 - val_mean_squared_error: 0.3584\n",
            "Epoch 64/70\n",
            "64/64 [==============================] - 0s 3ms/step - loss: 0.1446 - mean_squared_error: 0.1446 - val_loss: 0.2927 - val_mean_squared_error: 0.2927\n",
            "Epoch 65/70\n",
            "64/64 [==============================] - 0s 3ms/step - loss: 0.1352 - mean_squared_error: 0.1352 - val_loss: 0.3134 - val_mean_squared_error: 0.3134\n",
            "Epoch 66/70\n",
            "64/64 [==============================] - 0s 3ms/step - loss: 0.1137 - mean_squared_error: 0.1137 - val_loss: 0.3193 - val_mean_squared_error: 0.3193\n",
            "Epoch 67/70\n",
            "64/64 [==============================] - 0s 3ms/step - loss: 0.0900 - mean_squared_error: 0.0900 - val_loss: 0.3068 - val_mean_squared_error: 0.3068\n",
            "Epoch 68/70\n",
            "64/64 [==============================] - 0s 3ms/step - loss: 0.0943 - mean_squared_error: 0.0943 - val_loss: 0.2941 - val_mean_squared_error: 0.2941\n",
            "Epoch 69/70\n",
            "64/64 [==============================] - 0s 4ms/step - loss: 0.0920 - mean_squared_error: 0.0920 - val_loss: 0.2891 - val_mean_squared_error: 0.2891\n",
            "Epoch 70/70\n",
            "64/64 [==============================] - 0s 4ms/step - loss: 0.0939 - mean_squared_error: 0.0939 - val_loss: 0.3249 - val_mean_squared_error: 0.3249\n"
          ]
        }
      ]
    },
    {
      "cell_type": "code",
      "source": [
        "plt.plot(pom.history['loss'])\n",
        "plt.plot(pom.history['val_loss'])"
      ],
      "metadata": {
        "colab": {
          "base_uri": "https://localhost:8080/",
          "height": 283
        },
        "id": "IDvo8QdcEMbl",
        "outputId": "e6dced5b-e03a-4756-c17c-ee74374303d5"
      },
      "execution_count": null,
      "outputs": [
        {
          "output_type": "execute_result",
          "data": {
            "text/plain": [
              "[<matplotlib.lines.Line2D at 0x7f8573953df0>]"
            ]
          },
          "metadata": {},
          "execution_count": 27
        },
        {
          "output_type": "display_data",
          "data": {
            "text/plain": [
              "<Figure size 432x288 with 1 Axes>"
            ],
            "image/png": "[encoded data removed]"
          },
          "metadata": {
            "needs_background": "light"
          }
        }
      ]
    },
    {
      "cell_type": "code",
      "source": [
        "y_pred = model.predict(X_test)"
      ],
      "metadata": {
        "colab": {
          "base_uri": "https://localhost:8080/"
        },
        "id": "ywUdgh48EO1s",
        "outputId": "7a58292d-d977-4a49-d3a2-e4e9957db382"
      },
      "execution_count": null,
      "outputs": [
        {
          "output_type": "stream",
          "name": "stdout",
          "text": [
            "10/10 [==============================] - 0s 2ms/step\n"
          ]
        }
      ]
    },
    {
      "cell_type": "code",
      "source": [
        "r2_score(Y_test,y_pred)"
      ],
      "metadata": {
        "colab": {
          "base_uri": "https://localhost:8080/"
        },
        "id": "LvoNSXyLETHg",
        "outputId": "62c44b2c-ac65-43a9-e362-681b85a4eb10"
      },
      "execution_count": null,
      "outputs": [
        {
          "output_type": "execute_result",
          "data": {
            "text/plain": [
              "0.6147964042090956"
            ]
          },
          "metadata": {},
          "execution_count": 29
        }
      ]
    },
    {
      "cell_type": "code",
      "source": [
        "model = Sequential()\n",
        "#input\n",
        "model.add(Dense(20, input_dim=11,activation ='relu'))\n",
        "#hidden\n",
        "model.add(Dense(200,activation ='relu'))\n",
        "model.add(Dense(116, activation ='relu'))\n",
        "model.add(Dense(54,activation ='relu'))\n",
        "#output\n",
        "model.add(Dense(1, activation ='linear'))"
      ],
      "metadata": {
        "id": "aBbAi3CQEWgN"
      },
      "execution_count": null,
      "outputs": []
    },
    {
      "cell_type": "code",
      "source": [
        "model.compile(optimizer='adam',loss='categorical_crossentropy',metrics=['accuracy'])\n",
        "model.compile(loss='mean_squared_error',optimizer='adam',metrics=['MeanSquaredError'])\n",
        "pom=model.fit(X_train,Y_train,epochs=40,batch_size=18,validation_split=0.2)"
      ],
      "metadata": {
        "colab": {
          "base_uri": "https://localhost:8080/"
        },
        "id": "xtY4wdG3Ega9",
        "outputId": "5539e6a5-879c-4e88-d929-8e9fddcbb94e"
      },
      "execution_count": null,
      "outputs": [
        {
          "output_type": "stream",
          "name": "stdout",
          "text": [
            "Epoch 1/40\n",
            "57/57 [==============================] - 1s 5ms/step - loss: 33.2897 - mean_squared_error: 33.2897 - val_loss: 7.2058 - val_mean_squared_error: 7.2058\n",
            "Epoch 2/40\n",
            "57/57 [==============================] - 0s 3ms/step - loss: 5.6313 - mean_squared_error: 5.6313 - val_loss: 3.9167 - val_mean_squared_error: 3.9167\n",
            "Epoch 3/40\n",
            "57/57 [==============================] - 0s 3ms/step - loss: 3.3553 - mean_squared_error: 3.3553 - val_loss: 2.6076 - val_mean_squared_error: 2.6076\n",
            "Epoch 4/40\n",
            "57/57 [==============================] - 0s 3ms/step - loss: 2.1382 - mean_squared_error: 2.1382 - val_loss: 1.6810 - val_mean_squared_error: 1.6810\n",
            "Epoch 5/40\n",
            "57/57 [==============================] - 0s 3ms/step - loss: 1.3791 - mean_squared_error: 1.3791 - val_loss: 1.2978 - val_mean_squared_error: 1.2978\n",
            "Epoch 6/40\n",
            "57/57 [==============================] - 0s 3ms/step - loss: 0.9104 - mean_squared_error: 0.9104 - val_loss: 0.9567 - val_mean_squared_error: 0.9567\n",
            "Epoch 7/40\n",
            "57/57 [==============================] - 0s 3ms/step - loss: 0.6292 - mean_squared_error: 0.6292 - val_loss: 0.7350 - val_mean_squared_error: 0.7350\n",
            "Epoch 8/40\n",
            "57/57 [==============================] - 0s 3ms/step - loss: 0.5539 - mean_squared_error: 0.5539 - val_loss: 0.6020 - val_mean_squared_error: 0.6020\n",
            "Epoch 9/40\n",
            "57/57 [==============================] - 0s 3ms/step - loss: 0.4125 - mean_squared_error: 0.4125 - val_loss: 0.5355 - val_mean_squared_error: 0.5355\n",
            "Epoch 10/40\n",
            "57/57 [==============================] - 0s 4ms/step - loss: 0.3718 - mean_squared_error: 0.3718 - val_loss: 0.5208 - val_mean_squared_error: 0.5208\n",
            "Epoch 11/40\n",
            "57/57 [==============================] - 0s 3ms/step - loss: 0.3760 - mean_squared_error: 0.3760 - val_loss: 0.4448 - val_mean_squared_error: 0.4448\n",
            "Epoch 12/40\n",
            "57/57 [==============================] - 0s 3ms/step - loss: 0.3214 - mean_squared_error: 0.3214 - val_loss: 0.4455 - val_mean_squared_error: 0.4455\n",
            "Epoch 13/40\n",
            "57/57 [==============================] - 0s 3ms/step - loss: 0.3189 - mean_squared_error: 0.3189 - val_loss: 0.4290 - val_mean_squared_error: 0.4290\n",
            "Epoch 14/40\n",
            "57/57 [==============================] - 0s 3ms/step - loss: 0.2887 - mean_squared_error: 0.2887 - val_loss: 0.3772 - val_mean_squared_error: 0.3772\n",
            "Epoch 15/40\n",
            "57/57 [==============================] - 0s 3ms/step - loss: 0.2765 - mean_squared_error: 0.2765 - val_loss: 0.3927 - val_mean_squared_error: 0.3927\n",
            "Epoch 16/40\n",
            "57/57 [==============================] - 0s 4ms/step - loss: 0.2739 - mean_squared_error: 0.2739 - val_loss: 0.3455 - val_mean_squared_error: 0.3455\n",
            "Epoch 17/40\n",
            "57/57 [==============================] - 0s 3ms/step - loss: 0.2664 - mean_squared_error: 0.2664 - val_loss: 0.4816 - val_mean_squared_error: 0.4816\n",
            "Epoch 18/40\n",
            "57/57 [==============================] - 0s 3ms/step - loss: 0.2670 - mean_squared_error: 0.2670 - val_loss: 0.3825 - val_mean_squared_error: 0.3825\n",
            "Epoch 19/40\n",
            "57/57 [==============================] - 0s 3ms/step - loss: 0.2381 - mean_squared_error: 0.2381 - val_loss: 0.3528 - val_mean_squared_error: 0.3528\n",
            "Epoch 20/40\n",
            "57/57 [==============================] - 0s 3ms/step - loss: 0.2427 - mean_squared_error: 0.2427 - val_loss: 0.3677 - val_mean_squared_error: 0.3677\n",
            "Epoch 21/40\n",
            "57/57 [==============================] - 0s 3ms/step - loss: 0.2177 - mean_squared_error: 0.2177 - val_loss: 0.3474 - val_mean_squared_error: 0.3474\n",
            "Epoch 22/40\n",
            "57/57 [==============================] - 0s 3ms/step - loss: 0.2035 - mean_squared_error: 0.2035 - val_loss: 0.3961 - val_mean_squared_error: 0.3961\n",
            "Epoch 23/40\n",
            "57/57 [==============================] - 0s 3ms/step - loss: 0.2419 - mean_squared_error: 0.2419 - val_loss: 0.4600 - val_mean_squared_error: 0.4600\n",
            "Epoch 24/40\n",
            "57/57 [==============================] - 0s 3ms/step - loss: 0.2214 - mean_squared_error: 0.2214 - val_loss: 0.3483 - val_mean_squared_error: 0.3483\n",
            "Epoch 25/40\n",
            "57/57 [==============================] - 0s 3ms/step - loss: 0.2008 - mean_squared_error: 0.2008 - val_loss: 0.3300 - val_mean_squared_error: 0.3300\n",
            "Epoch 26/40\n",
            "57/57 [==============================] - 0s 3ms/step - loss: 0.1985 - mean_squared_error: 0.1985 - val_loss: 0.3326 - val_mean_squared_error: 0.3326\n",
            "Epoch 27/40\n",
            "57/57 [==============================] - 0s 4ms/step - loss: 0.1916 - mean_squared_error: 0.1916 - val_loss: 0.3360 - val_mean_squared_error: 0.3360\n",
            "Epoch 28/40\n",
            "57/57 [==============================] - 0s 3ms/step - loss: 0.1828 - mean_squared_error: 0.1828 - val_loss: 0.3379 - val_mean_squared_error: 0.3379\n",
            "Epoch 29/40\n",
            "57/57 [==============================] - 0s 3ms/step - loss: 0.1797 - mean_squared_error: 0.1797 - val_loss: 0.3135 - val_mean_squared_error: 0.3135\n",
            "Epoch 30/40\n",
            "57/57 [==============================] - 0s 4ms/step - loss: 0.1831 - mean_squared_error: 0.1831 - val_loss: 0.3848 - val_mean_squared_error: 0.3848\n",
            "Epoch 31/40\n",
            "57/57 [==============================] - 0s 3ms/step - loss: 0.1775 - mean_squared_error: 0.1775 - val_loss: 0.3434 - val_mean_squared_error: 0.3434\n",
            "Epoch 32/40\n",
            "57/57 [==============================] - 0s 4ms/step - loss: 0.1554 - mean_squared_error: 0.1554 - val_loss: 0.3108 - val_mean_squared_error: 0.3108\n",
            "Epoch 33/40\n",
            "57/57 [==============================] - 0s 3ms/step - loss: 0.1560 - mean_squared_error: 0.1560 - val_loss: 0.3287 - val_mean_squared_error: 0.3287\n",
            "Epoch 34/40\n",
            "57/57 [==============================] - 0s 3ms/step - loss: 0.1745 - mean_squared_error: 0.1745 - val_loss: 0.3712 - val_mean_squared_error: 0.3712\n",
            "Epoch 35/40\n",
            "57/57 [==============================] - 0s 3ms/step - loss: 0.1486 - mean_squared_error: 0.1486 - val_loss: 0.3314 - val_mean_squared_error: 0.3314\n",
            "Epoch 36/40\n",
            "57/57 [==============================] - 0s 3ms/step - loss: 0.1574 - mean_squared_error: 0.1574 - val_loss: 0.3231 - val_mean_squared_error: 0.3231\n",
            "Epoch 37/40\n",
            "57/57 [==============================] - 0s 3ms/step - loss: 0.1784 - mean_squared_error: 0.1784 - val_loss: 0.3331 - val_mean_squared_error: 0.3331\n",
            "Epoch 38/40\n",
            "57/57 [==============================] - 0s 3ms/step - loss: 0.2323 - mean_squared_error: 0.2323 - val_loss: 0.3360 - val_mean_squared_error: 0.3360\n",
            "Epoch 39/40\n",
            "57/57 [==============================] - 0s 3ms/step - loss: 0.1639 - mean_squared_error: 0.1639 - val_loss: 0.3895 - val_mean_squared_error: 0.3895\n",
            "Epoch 40/40\n",
            "57/57 [==============================] - 0s 3ms/step - loss: 0.1362 - mean_squared_error: 0.1362 - val_loss: 0.2924 - val_mean_squared_error: 0.2924\n"
          ]
        }
      ]
    },
    {
      "cell_type": "code",
      "source": [
        "plt.plot(pom.history['loss'])\n",
        "plt.plot(pom.history['val_loss'])"
      ],
      "metadata": {
        "colab": {
          "base_uri": "https://localhost:8080/",
          "height": 283
        },
        "id": "k-kEWs0bEmQ0",
        "outputId": "56713949-d24f-4eb5-fd5d-a9f6cc943bf2"
      },
      "execution_count": null,
      "outputs": [
        {
          "output_type": "execute_result",
          "data": {
            "text/plain": [
              "[<matplotlib.lines.Line2D at 0x7f85757b03a0>]"
            ]
          },
          "metadata": {},
          "execution_count": 37
        },
        {
          "output_type": "display_data",
          "data": {
            "text/plain": [
              "<Figure size 432x288 with 1 Axes>"
            ],
            "image/png": "[encoded data removed]"
          },
          "metadata": {
            "needs_background": "light"
          }
        }
      ]
    },
    {
      "cell_type": "code",
      "source": [
        "y_pred = model.predict(X_test)"
      ],
      "metadata": {
        "colab": {
          "base_uri": "https://localhost:8080/"
        },
        "id": "4WP0RO2rEsPk",
        "outputId": "c58499c0-2aef-4897-904c-a90d3201633a"
      },
      "execution_count": null,
      "outputs": [
        {
          "output_type": "stream",
          "name": "stdout",
          "text": [
            "10/10 [==============================] - 0s 2ms/step\n"
          ]
        }
      ]
    },
    {
      "cell_type": "code",
      "source": [
        "r2_score(Y_test,y_pred)"
      ],
      "metadata": {
        "colab": {
          "base_uri": "https://localhost:8080/"
        },
        "id": "lNSmxBS0Evvi",
        "outputId": "413e122f-e81e-413a-e287-4aaf0433d750"
      },
      "execution_count": null,
      "outputs": [
        {
          "output_type": "execute_result",
          "data": {
            "text/plain": [
              "0.7382445394568812"
            ]
          },
          "metadata": {},
          "execution_count": 39
        }
      ]
    }
  ]
}